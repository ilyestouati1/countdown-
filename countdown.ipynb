{
 "cells": [
  {
   "cell_type": "code",
   "execution_count": null,
   "id": "2dd69a63",
   "metadata": {},
   "outputs": [
    {
     "name": "stdout",
     "output_type": "stream",
     "text": [
      "enter the lenght of your of your countdown50\n",
      "00:27\r"
     ]
    }
   ],
   "source": [
    "import time\n",
    "t=int(input(\"enter the lenght of your of your countdown\"))\n",
    "def countdown(t):\n",
    "    while t:\n",
    "        minutes,seconds=divmod(t,60)\n",
    "        timer='{:02d}:{:02d}'.format(minutes,seconds)\n",
    "        print(timer,end='\\r')\n",
    "        time.sleep(1)\n",
    "        t-=1\n",
    "    print ('fire in the hole')\n",
    "countdown(int(t))\n",
    "        \n"
   ]
  },
  {
   "cell_type": "code",
   "execution_count": null,
   "id": "05e9971b",
   "metadata": {},
   "outputs": [],
   "source": []
  }
 ],
 "metadata": {
  "kernelspec": {
   "display_name": "Python 3",
   "language": "python",
   "name": "python3"
  },
  "language_info": {
   "codemirror_mode": {
    "name": "ipython",
    "version": 3
   },
   "file_extension": ".py",
   "mimetype": "text/x-python",
   "name": "python",
   "nbconvert_exporter": "python",
   "pygments_lexer": "ipython3",
   "version": "3.8.8"
  }
 },
 "nbformat": 4,
 "nbformat_minor": 5
}
